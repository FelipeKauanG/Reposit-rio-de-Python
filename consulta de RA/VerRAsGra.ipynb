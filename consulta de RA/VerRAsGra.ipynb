{
 "cells": [
  {
   "cell_type": "code",
   "execution_count": 1,
   "id": "c12bf69f",
   "metadata": {},
   "outputs": [
    {
     "name": "stdout",
     "output_type": "stream",
     "text": [
      "Ano de \u001b[34m2015\u001b[m\n",
      "\n",
      "\n",
      "\n",
      "\n",
      "\n",
      "Ano de \u001b[34m2016\u001b[m\n",
      "\n",
      "\n",
      "\n",
      "\n",
      "\n",
      "Ano de \u001b[34m2017\u001b[m\n",
      "\n",
      "\n",
      "\n",
      "\n",
      "\n",
      "Ano de \u001b[34m2018\u001b[m\n",
      "\n",
      "\n",
      "\n",
      "\n",
      "\n",
      "Ano de \u001b[34m2019\u001b[m\n",
      "\n",
      "\n",
      "\n",
      "\n",
      "\n",
      "Ano de \u001b[34m2020\u001b[m\n",
      "\n",
      "\n",
      "\n",
      "\n",
      "\n",
      "Ano de \u001b[34m2021\u001b[m\n",
      "\n",
      "\n",
      "\n"
     ]
    },
    {
     "ename": "ZeroDivisionError",
     "evalue": "division by zero",
     "output_type": "error",
     "traceback": [
      "\u001b[1;31m---------------------------------------------------------------------------\u001b[0m",
      "\u001b[1;31mZeroDivisionError\u001b[0m                         Traceback (most recent call last)",
      "Cell \u001b[1;32mIn[1], line 37\u001b[0m\n\u001b[0;32m     34\u001b[0m         \u001b[39mprint\u001b[39m(\u001b[39mf\u001b[39m\u001b[39m\"\u001b[39m\u001b[39m\\033\u001b[39;00m\u001b[39m[34m\u001b[39m\u001b[39m\\033\u001b[39;00m\u001b[39mNão consegui ver este boletim![m\u001b[39m\u001b[39m\"\u001b[39m)\n\u001b[0;32m     35\u001b[0m driver\u001b[39m.\u001b[39mquit()\n\u001b[0;32m     36\u001b[0m \u001b[39mprint\u001b[39m(\u001b[39mf\u001b[39m\u001b[39m\"\u001b[39m\u001b[39m\\033\u001b[39;00m\u001b[39m[33mPontos totais \u001b[39m\u001b[39m{\u001b[39;00mpontos\u001b[39m}\u001b[39;00m\u001b[39m\\033\u001b[39;00m\u001b[39m[m\u001b[39m\u001b[39m\"\u001b[39m\n\u001b[1;32m---> 37\u001b[0m           \u001b[39mf\u001b[39m\u001b[39m\"\u001b[39m\u001b[39m\\033\u001b[39;00m\u001b[39m[34m\u001b[39m\u001b[39m\\n\u001b[39;00m\u001b[39mMédia do aluno total: \u001b[39m\u001b[39m{\u001b[39;00mpontos\u001b[39m/\u001b[39;49m\u001b[39mint\u001b[39;49m(\u001b[39mlen\u001b[39;49m(num))\u001b[39m:\u001b[39;00m\u001b[39m.2f\u001b[39m\u001b[39m}\u001b[39;00m\u001b[39m\\033\u001b[39;00m\u001b[39m[m\u001b[39m\u001b[39m\"\u001b[39m)\n\u001b[0;32m     38\u001b[0m \u001b[39mfor\u001b[39;00m quant \u001b[39min\u001b[39;00m \u001b[39mrange\u001b[39m(\u001b[39m10\u001b[39m, \u001b[39m-\u001b[39m\u001b[39m1\u001b[39m, \u001b[39m-\u001b[39m\u001b[39m1\u001b[39m):\n\u001b[0;32m     39\u001b[0m     \u001b[39mprint\u001b[39m(\u001b[39mf\u001b[39m\u001b[39m\"\u001b[39m\u001b[39mQuantidade de \u001b[39m\u001b[39m{\u001b[39;00mquant\u001b[39m}\u001b[39;00m\u001b[39m: \u001b[39m\u001b[39m{\u001b[39;00mnum\u001b[39m.\u001b[39mcount(\u001b[39mf\u001b[39m\u001b[39m'\u001b[39m\u001b[39m{\u001b[39;00mquant\u001b[39m}\u001b[39;00m\u001b[39m'\u001b[39m)\u001b[39m}\u001b[39;00m\u001b[39m\"\u001b[39m)\n",
      "\u001b[1;31mZeroDivisionError\u001b[0m: division by zero"
     ]
    }
   ],
   "source": [
    "from selenium import webdriver\n",
    "from selenium.webdriver.common.by import By\n",
    "from selenium.webdriver.support.ui import WebDriverWait\n",
    "from selenium.webdriver.support import expected_conditions as EC\n",
    "while True:\n",
    "    ra = str(input(\"RA do aluno: \")).strip()\n",
    "    data = str(input(\"Data de nascimento: \")).strip().replace(\"\", \"/\")\n",
    "    digito = str(input(\"Dígito verificador: \")).strip()\n",
    "    driver = webdriver.Chrome()\n",
    "    wait = WebDriverWait(driver, 7)\n",
    "    pontos = 0\n",
    "    num = []\n",
    "    disciplinas = ['Arte', 'Biologia', 'Filosofia', 'Física', 'Geografia', 'História', 'Inglês', 'Português', 'Matemática', 'Química', 'Sociologia']\n",
    "    #boletim = {\"bimestre1\":[], \"bimestre2\":[],\"bimestre\":[],\"bimestre\":[]}\n",
    "    for ano in range(2015, 2022):\n",
    "        try:\n",
    "            try:\n",
    "                print(f\"Ano de \\033[34m{ano}\\033[m\")\n",
    "                driver.get(\n",
    "                    f\"https://sed.educacao.sp.gov.br/Boletim/GerarBoletimUnificadoExterno?nrRa={'000'+ra}&nrDigRa={digito}&dsUfRa=SP&dtNascimento={data}&nrAnoLetivo={000+ano}\"),\n",
    "                print(\"\\n\")\n",
    "                for notn in range(1, 13):\n",
    "                    for bim in range(2, 15, 4):\n",
    "                        bimnot = wait.until(EC.visibility_of_element_located(\n",
    "                        (By.XPATH, f'/html/body/div/div/div[4]/table/tbody/tr[{notn}]/td[{bim}]'))).text\n",
    "                        pontos += int(bimnot)\n",
    "                        num.append(bimnot)\n",
    "                        print(f'\\033[36m{disciplinas[notn]}\\033[m', end=\" :\")\n",
    "                        print(f\"{bimnot}\", end=\" \")\n",
    "                    print()\n",
    "            except:\n",
    "                print(\"\\n\\n\")\n",
    "        except:\n",
    "            print(f\"\\033[34m\\033Não consegui ver este boletim![m\")\n",
    "    driver.quit()\n",
    "    print(f\"\\033[33mPontos totais {pontos}\\033[m\"\n",
    "              f\"\\033[34m\\nMédia do aluno total: {pontos/int(len(num)):.2f}\\033[m\")\n",
    "    for quant in range(10, -1, -1):\n",
    "        print(f\"Quantidade de {quant}: {num.count(f'{quant}')}\")\n",
    "    per = str(input(\"Quer continuar ? s/n\")).strip().lower()\n",
    "    if per == \"n\":\n",
    "        break"
   ]
  }
 ],
 "metadata": {
  "kernelspec": {
   "display_name": "Python 3 (ipykernel)",
   "language": "python",
   "name": "python3"
  },
  "language_info": {
   "codemirror_mode": {
    "name": "ipython",
    "version": 3
   },
   "file_extension": ".py",
   "mimetype": "text/x-python",
   "name": "python",
   "nbconvert_exporter": "python",
   "pygments_lexer": "ipython3",
   "version": "3.11.2"
  }
 },
 "nbformat": 4,
 "nbformat_minor": 5
}
